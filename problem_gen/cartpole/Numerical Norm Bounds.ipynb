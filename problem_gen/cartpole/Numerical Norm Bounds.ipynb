{
 "cells": [
  {
   "cell_type": "markdown",
   "metadata": {},
   "source": [
    "# Numerical norm bounds for cartpole "
   ]
  },
  {
   "cell_type": "markdown",
   "metadata": {},
   "source": [
    "For a cartpole system with state $y = \\begin{bmatrix}x & \\dot{x} & \\varphi & \\dot{\\varphi} \\end{bmatrix}^T$ we have \n",
    "|\n",
    "\\begin{equation}\n",
    "\\dot{y} = \\begin{bmatrix} \n",
    "\\dot{x} \\\\\n",
    "\\frac{u + m_p \\sin\\varphi (l \\dot{\\varphi}^2 + g \\cos\\varphi)}{m_c + m_p \\sin^2\\varphi} \\\\\n",
    "\\dot{\\varphi} \\\\\n",
    "\\frac{-u\\cos\\varphi - m_p l \\dot{\\varphi}^2 \\cos\\varphi \\sin\\varphi - (m_c+m_p)g\\sin\\varphi}{l(m_c + m_p \\sin^2\\varphi)}\n",
    "\\end{bmatrix}.\n",
    "\\end{equation}\n",
    "\n",
    "Evaluating the corresponding Jacobian at 0 (in the state and action space) yields:\n",
    "\\begin{equation}\n",
    "\\nabla_{\\begin{bmatrix} y & u \\end{bmatrix}^T} f(0)\\begin{bmatrix} y \\\\ u \\end{bmatrix} = \\begin{bmatrix} \\dot{x} \\\\ \\frac{-m_p g \\varphi + u}{m_c}\\\\\n",
    "\\dot{\\varphi} \\\\\n",
    "\\frac{g(m_c + m_p)\\varphi - u}{l m_c}\n",
    "\\end{bmatrix}\n",
    "\\end{equation}\n",
    "\n",
    "We want to find an NLDI of the form\n",
    "\\begin{equation}\n",
    "\\dot{y} = \\nabla_{\\begin{bmatrix} y & u \\end{bmatrix}^T} f(0) \\begin{bmatrix} y \\\\ u \\end{bmatrix} + I p, \\;\\; \\|p\\| \\leq \\|Cy + Du\\|\n",
    "\\end{equation}\n",
    "\n",
    "To find $C$ and $D$,\" we determine an entry-wise norm bound. That is, for $i=1,\\ldots,4$, we want to find $F_i$ such that for all $y$ such that $y_{\\text{min}} \\leq y \\leq y_{\\text{max}}$, and all $u$ such that $u_{\\text{min}} \\leq u \\leq u_{\\text{max}}$:\n",
    "\\begin{equation}\n",
    "(\\nabla f_i(0) \\begin{bmatrix} y \\\\ u \\end{bmatrix} - \\dot{y}_i)^2 \\leq \\begin{bmatrix} y \\\\ u \\end{bmatrix}^T F_i \\begin{bmatrix} y \\\\ u \\end{bmatrix}\n",
    "\\end{equation}\n",
    "and then write\n",
    "\\begin{equation}\n",
    "\\|\\dot{y} - \\nabla f(0)\\begin{bmatrix} y \\\\ u \\end{bmatrix}\\|_2 \\leq \\|\\begin{bmatrix} F_1^{1/2} \\\\ F_2^{1/2} \\\\ F_3^{1/2} \\\\ F_4^{1/2} \\end{bmatrix} \\begin{bmatrix} y \\\\ u \\end{bmatrix} \\| = \\|\\begin{bmatrix} F_1^{1/2} \\\\ F_2^{1/2} \\\\ F_3^{1/2} \\\\ F_4^{1/2} \\end{bmatrix}_{:, :n} y + \\begin{bmatrix} F_1^{1/2} \\\\ F_2^{1/2} \\\\ F_3^{1/2} \\\\ F_4^{1/2} \\end{bmatrix}_{:, n:n+m} u \\|,\n",
    "\\end{equation}\n",
    "where $n = \\dim(y) = 4$, $m = \\dim(u) = 1$.\n"
   ]
  },
  {
   "cell_type": "code",
   "execution_count": 112,
   "metadata": {
    "collapsed": true
   },
   "outputs": [],
   "source": [
    "import numpy as np\n",
    "import cvxpy as cp\n",
    "import scipy.linalg as sla"
   ]
  },
  {
   "cell_type": "code",
   "execution_count": 113,
   "metadata": {
    "collapsed": true
   },
   "outputs": [],
   "source": [
    "g = 9.81\n",
    "l = 1\n",
    "mc = 1\n",
    "mp = 1"
   ]
  },
  {
   "cell_type": "markdown",
   "metadata": {},
   "source": [
    "## Define max and min values "
   ]
  },
  {
   "cell_type": "code",
   "execution_count": 114,
   "metadata": {},
   "outputs": [],
   "source": [
    "# State is: [y, u] = [x, xdot, phi, phidot, u]^T\n",
    "s_max = np.array([1.2, 1.0, 0.1, 1.0, 10])\n",
    "s_min = np.array([-1.2, -1.0, -0.1, -1.0, -10])\n",
    "\n",
    "x_max, xdot_max, phi_max, phidot_max, u_max = s_max\n",
    "x_min, xdot_min, phi_min, phidot_min, u_min = s_min\n",
    "\n",
    "n = 4\n",
    "m = 1\n",
    "nm = n+m\n",
    "x_idx, xdot_idx, phi_idx, phidot_idx, u_idx = range(nm)"
   ]
  },
  {
   "cell_type": "markdown",
   "metadata": {},
   "source": [
    "## Find element-wise bounds "
   ]
  },
  {
   "cell_type": "markdown",
   "metadata": {},
   "source": [
    "### $f_1$"
   ]
  },
  {
   "cell_type": "markdown",
   "metadata": {},
   "source": [
    "No error -- linearization is the same as original"
   ]
  },
  {
   "cell_type": "markdown",
   "metadata": {},
   "source": [
    "### $f_2$ "
   ]
  },
  {
   "cell_type": "code",
   "execution_count": 115,
   "metadata": {},
   "outputs": [],
   "source": [
    "gridnum = 50\n",
    "phi = np.linspace(phi_min, phi_max, gridnum)\n",
    "phidot = np.linspace(phidot_min, phidot_max, gridnum)\n",
    "u = np.linspace(u_min, u_max, gridnum)\n",
    "\n",
    "Phi, Phidot, U = np.meshgrid(phi, phidot, u)\n",
    "\n",
    "v2 = np.ravel(( (-mp*g*Phi + U)/mc - \n",
    "                (U + mp*np.sin(Phi)*(l*Phidot**2 - g*np.cos(Phi)))/(mc + mp*np.sin(Phi)**2) )**2)\n",
    "U2 = np.array([np.ravel(Phi*Phi), \n",
    "              np.ravel(Phidot*Phidot), \n",
    "              np.ravel(U*U),\n",
    "              2*np.ravel(Phi*Phidot), \n",
    "              2*np.ravel(Phi*U), \n",
    "              2*np.ravel(Phidot*U)]).T"
   ]
  },
  {
   "cell_type": "code",
   "execution_count": 116,
   "metadata": {},
   "outputs": [
    {
     "name": "stdout",
     "output_type": "stream",
     "text": [
      "\n",
      "\n",
      "Problem\n",
      "  Name                   :                 \n",
      "  Objective sense        : min             \n",
      "  Type                   : LO (linear optimization problem)\n",
      "  Constraints            : 250003          \n",
      "  Cones                  : 0               \n",
      "  Scalar variables       : 7               \n",
      "  Matrix variables       : 0               \n",
      "  Integer variables      : 0               \n",
      "\n",
      "Optimizer started.\n",
      "Problem\n",
      "  Name                   :                 \n",
      "  Objective sense        : min             \n",
      "  Type                   : LO (linear optimization problem)\n",
      "  Constraints            : 250003          \n",
      "  Cones                  : 0               \n",
      "  Scalar variables       : 7               \n",
      "  Matrix variables       : 0               \n",
      "  Integer variables      : 0               \n",
      "\n",
      "Optimizer  - threads                : 2               \n",
      "Optimizer  - solved problem         : the dual        \n",
      "Optimizer  - Constraints            : 7\n",
      "Optimizer  - Cones                  : 0\n",
      "Optimizer  - Scalar variables       : 122381            conic                  : 0               \n",
      "Optimizer  - Semi-definite variables: 0                 scalarized             : 0               \n",
      "Factor     - setup time             : 0.06              dense det. time        : 0.00            \n",
      "Factor     - ML order time          : 0.00              GP order time          : 0.00            \n",
      "Factor     - nonzeros before factor : 28                after factor           : 28              \n",
      "Factor     - dense dim.             : 0                 flops                  : 6.01e+06        \n",
      "ITE PFEAS    DFEAS    GFEAS    PRSTATUS   POBJ              DOBJ              MU       TIME  \n",
      "0   1.5e+00  9.1e+04  2.2e+01  0.00e+00   0.000000000e+00   1.625858229e+01   2.1e+00  0.39  \n",
      "1   3.6e-01  2.1e+04  5.2e+00  3.53e+01   4.163932841e-02   1.532790485e-01   4.9e-01  0.44  \n",
      "2   6.7e-02  4.0e+03  9.8e-01  1.68e+00   3.515579040e-02   4.940871768e-02   9.3e-02  0.48  \n",
      "3   2.7e-03  5.0e+02  1.5e-01  1.56e+00   2.985705958e-02   3.168708727e-02   1.1e-02  0.50  \n",
      "4   9.3e-04  1.7e+02  5.2e-02  1.50e+00   2.376829379e-02   2.427345456e-02   3.8e-03  0.53  \n",
      "5   5.9e-04  1.1e+02  3.2e-02  1.29e+00   2.174807682e-02   2.204270508e-02   2.4e-03  0.57  \n",
      "6   5.8e-04  1.1e+02  3.2e-02  1.17e+00   2.174438032e-02   2.203805958e-02   2.4e-03  0.60  \n",
      "7   3.4e-04  6.2e+01  1.9e-02  1.17e+00   2.063719469e-02   2.080234539e-02   1.4e-03  0.63  \n",
      "8   3.4e-04  6.2e+01  1.9e-02  1.05e+00   2.066347025e-02   2.082840854e-02   1.4e-03  0.67  \n",
      "9   2.3e-04  4.1e+01  1.3e-02  1.06e+00   2.047042791e-02   2.057992248e-02   9.4e-04  0.69  \n",
      "10  1.9e-04  3.4e+01  1.0e-02  1.03e+00   2.047127610e-02   2.056123143e-02   7.7e-04  0.73  \n",
      "11  1.3e-05  2.4e+00  7.2e-04  1.03e+00   2.039796556e-02   2.040419103e-02   5.4e-05  0.75  \n",
      "12  2.7e-06  4.9e-01  1.5e-04  1.00e+00   2.035598433e-02   2.035726696e-02   1.1e-05  0.78  \n",
      "13  5.0e-07  9.0e-02  2.8e-05  1.00e+00   2.035544856e-02   2.035568516e-02   2.0e-06  0.80  \n",
      "14  4.5e-08  8.2e-03  2.5e-06  1.00e+00   2.035505409e-02   2.035507569e-02   1.9e-07  0.83  \n",
      "15  4.6e-12  8.3e-07  2.5e-10  1.00e+00   2.035504100e-02   2.035504101e-02   1.9e-11  0.86  \n",
      "Basis identification started.\n",
      "Primal basis identification phase started.\n",
      "Primal basis identification phase terminated. Time: 0.00\n",
      "Dual basis identification phase started.\n",
      "Dual basis identification phase terminated. Time: 0.00\n",
      "Basis identification terminated. Time: 0.04\n",
      "Optimizer terminated. Time: 0.99    \n",
      "\n",
      "\n",
      "Interior-point solution summary\n",
      "  Problem status  : PRIMAL_AND_DUAL_FEASIBLE\n",
      "  Solution status : OPTIMAL\n",
      "  Primal.  obj: 2.0355041003e-02    nrm: 2e+00    Viol.  con: 4e-14    var: 0e+00  \n",
      "  Dual.    obj: 2.0355041005e-02    nrm: 3e-01    Viol.  con: 0e+00    var: 2e-12  \n",
      "\n",
      "Basic solution summary\n",
      "  Problem status  : PRIMAL_AND_DUAL_FEASIBLE\n",
      "  Solution status : OPTIMAL\n",
      "  Primal.  obj: 2.0355041003e-02    nrm: 2e+00    Viol.  con: 1e-11    var: 0e+00  \n",
      "  Dual.    obj: 2.0355041002e-02    nrm: 4e-01    Viol.  con: 1e-17    var: 1e-14  \n"
     ]
    },
    {
     "data": {
      "text/plain": "0.020355041002912407"
     },
     "execution_count": 116,
     "metadata": {},
     "output_type": "execute_result"
    }
   ],
   "source": [
    "c2 = cp.Variable(6)\n",
    "cp.Problem(cp.Minimize(cp.max(U2@c2 - v2)), [U2@c2 >= v2, c2[:3]>=0]).solve(verbose=True, solver=cp.MOSEK)"
   ]
  },
  {
   "cell_type": "code",
   "execution_count": 117,
   "metadata": {},
   "outputs": [
    {
     "data": {
      "text/plain": "array([ 1.73328132e+00,  1.28470585e-02,  2.62093606e-05,  5.11706867e-13,\n       -6.42813415e-03,  1.55358430e-15])"
     },
     "execution_count": 117,
     "metadata": {},
     "output_type": "execute_result"
    }
   ],
   "source": [
    "c2 = c2.value\n",
    "c2"
   ]
  },
  {
   "cell_type": "code",
   "execution_count": 118,
   "metadata": {
    "collapsed": true
   },
   "outputs": [],
   "source": [
    "C2 = np.zeros((nm,nm))\n",
    "C2[phi_idx, phi_idx] = c2[0]/2\n",
    "C2[phidot_idx, phidot_idx] = c2[1]/2\n",
    "C2[u_idx, u_idx] = c2[2]/2\n",
    "C2[phi_idx, phidot_idx] = c2[3]\n",
    "C2[phi_idx, u_idx] = c2[4]\n",
    "C2[phidot_idx, u_idx] = c2[5]\n",
    "C2 += C2.T"
   ]
  },
  {
   "cell_type": "code",
   "execution_count": 119,
   "metadata": {},
   "outputs": [
    {
     "data": {
      "text/plain": "array([1.28470585e-02, 1.73330516e+00, 2.36962697e-06, 0.00000000e+00,\n       0.00000000e+00])"
     },
     "execution_count": 119,
     "metadata": {},
     "output_type": "execute_result"
    }
   ],
   "source": [
    "np.linalg.eig(C2)[0]"
   ]
  },
  {
   "cell_type": "code",
   "execution_count": 120,
   "metadata": {},
   "outputs": [
    {
     "data": {
      "text/plain": "array([[ 0.00000000e+00,  0.00000000e+00,  0.00000000e+00,\n         0.00000000e+00,  0.00000000e+00],\n       [ 0.00000000e+00,  0.00000000e+00,  0.00000000e+00,\n         0.00000000e+00,  0.00000000e+00],\n       [ 0.00000000e+00,  0.00000000e+00,  1.31653239e+00,\n         3.57965622e-13, -4.87685586e-03],\n       [ 0.00000000e+00,  0.00000000e+00,  3.57965622e-13,\n         1.13344865e-01,  2.87142270e-14],\n       [ 0.00000000e+00,  0.00000000e+00, -4.87685586e-03,\n         2.87142270e-14,  1.55744585e-03]])"
     },
     "execution_count": 120,
     "metadata": {},
     "output_type": "execute_result"
    }
   ],
   "source": [
    "gam2 = np.real(sla.sqrtm(C2))\n",
    "gam2"
   ]
  },
  {
   "cell_type": "markdown",
   "metadata": {},
   "source": [
    "### $f_3$ "
   ]
  },
  {
   "cell_type": "markdown",
   "metadata": {},
   "source": [
    "No error -- linearization is the same as original"
   ]
  },
  {
   "cell_type": "markdown",
   "metadata": {},
   "source": [
    "### $f_4$"
   ]
  },
  {
   "cell_type": "code",
   "execution_count": 121,
   "metadata": {
    "collapsed": true
   },
   "outputs": [],
   "source": [
    "gridnum = 50\n",
    "phi = np.linspace(phi_min, phi_max, gridnum)\n",
    "phidot = np.linspace(phidot_min, phidot_max, gridnum)\n",
    "u = np.linspace(u_min, u_max, gridnum)\n",
    "\"\"\n",
    "Phi, Phidot, U = np.meshgrid(phi, phidot, u)\n",
    "\"\"\n",
    "v4 = np.ravel(( (g*(mc+mp)*Phi - U)/(l*mc) - \n",
    "                (U*np.cos(Phi) + mp*l*(Phidot**2)*np.cos(Phi)*np.sin(Phi) - (mc+mp)*g*np.sin(Phi))/(\n",
    "                    -l*(mc + mp*np.sin(Phi)**2)) \n",
    "              )**2)\n",
    "U4 = np.array([np.ravel(Phi*Phi), \n",
    "              np.ravel(Phidot*Phidot), \n",
    "              np.ravel(U*U),\n",
    "              2*np.ravel(Phi*Phidot), \n",
    "              2*np.ravel(Phi*U), \n",
    "              2*np.ravel(Phidot*U)]).T"
   ]
  },
  {
   "cell_type": "code",
   "execution_count": 122,
   "metadata": {},
   "outputs": [
    {
     "name": "stdout",
     "output_type": "stream",
     "text": [
      "\n",
      "\n",
      "Problem\n",
      "  Name                   :                 \n",
      "  Objective sense        : min             \n",
      "  Type                   : LO (linear optimization problem)\n",
      "  Constraints            : 250003          \n",
      "  Cones                  : 0               \n",
      "  Scalar variables       : 7               \n",
      "  Matrix variables       : 0               \n",
      "  Integer variables      : 0               \n",
      "\n",
      "Optimizer started.\n",
      "Problem\n",
      "  Name                   :                 \n",
      "  Objective sense        : min             \n",
      "  Type                   : LO (linear optimization problem)\n",
      "  Constraints            : 250003          \n",
      "  Cones                  : 0               \n",
      "  Scalar variables       : 7               \n",
      "  Matrix variables       : 0               \n",
      "  Integer variables      : 0               \n",
      "\n",
      "Optimizer  - threads                : 2               \n",
      "Optimizer  - solved problem         : the dual        \n",
      "Optimizer  - Constraints            : 7\n",
      "Optimizer  - Cones                  : 0\n",
      "Optimizer  - Scalar variables       : 122381            conic                  : 0               \n",
      "Optimizer  - Semi-definite variables: 0                 scalarized             : 0               \n",
      "Factor     - setup time             : 0.06              dense det. time        : 0.00            \n",
      "Factor     - ML order time          : 0.00              GP order time          : 0.00            \n",
      "Factor     - nonzeros before factor : 28                after factor           : 28              \n",
      "Factor     - dense dim.             : 0                 flops                  : 6.01e+06        \n",
      "ITE PFEAS    DFEAS    GFEAS    PRSTATUS   POBJ              DOBJ              MU       TIME  \n",
      "0   1.6e+00  9.2e+04  3.9e+01  0.00e+00   0.000000000e+00   2.778799058e+01   2.1e+00  0.41  \n",
      "1   3.0e-01  1.7e+04  7.4e+00  2.87e+01   6.326255012e-02   2.890161114e-01   4.1e-01  0.46  \n",
      "2   3.7e-02  2.2e+03  9.2e-01  1.47e+00   5.633976511e-02   7.704543125e-02   5.0e-02  0.50  \n",
      "3   1.1e-03  4.5e+02  2.7e-01  1.58e+00   4.680001018e-02   5.190181357e-02   1.0e-02  0.53  \n",
      "4   3.0e-04  1.3e+02  7.6e-02  1.37e+00   3.869236676e-02   3.989925610e-02   2.8e-03  0.56  \n",
      "5   1.5e-04  6.1e+01  3.7e-02  1.34e+00   3.354007279e-02   3.406089289e-02   1.4e-03  0.59  \n",
      "6   1.5e-04  6.1e+01  3.7e-02  1.16e+00   3.354082164e-02   3.406080416e-02   1.4e-03  0.62  \n",
      "7   1.1e-04  4.7e+01  2.8e-02  1.16e+00   3.276598661e-02   3.315636257e-02   1.1e-03  0.66  \n",
      "8   8.2e-05  3.4e+01  2.0e-02  1.09e+00   3.244980364e-02   3.273125973e-02   7.7e-04  0.68  \n",
      "9   7.8e-05  3.2e+01  1.9e-02  1.04e+00   3.248495838e-02   3.275085703e-02   7.2e-04  0.71  \n",
      "10  9.4e-06  3.9e+00  2.3e-03  1.03e+00   3.232963484e-02   3.236145378e-02   8.7e-05  0.74  \n",
      "11  1.9e-06  8.0e-01  4.8e-04  1.01e+00   3.227233826e-02   3.227891845e-02   1.8e-05  0.77  \n",
      "12  1.4e-07  5.8e-02  3.5e-05  1.00e+00   3.226362929e-02   3.226411067e-02   1.3e-06  0.80  \n",
      "13  4.9e-09  2.0e-03  1.2e-06  1.00e+00   3.226272756e-02   3.226274403e-02   4.5e-08  0.82  \n",
      "14  8.0e-13  3.3e-07  2.0e-10  1.00e+00   3.226271785e-02   3.226271786e-02   7.4e-12  0.84  \n",
      "Basis identification started.\n",
      "Primal basis identification phase started.\n",
      "Primal basis identification phase terminated. Time: 0.00\n",
      "Dual basis identification phase started.\n",
      "Dual basis identification phase terminated. Time: 0.00\n",
      "Basis identification terminated. Time: 0.03\n",
      "Optimizer terminated. Time: 0.97    \n",
      "\n",
      "\n",
      "Interior-point solution summary\n",
      "  Problem status  : PRIMAL_AND_DUAL_FEASIBLE\n",
      "  Solution status : OPTIMAL\n",
      "  Primal.  obj: 3.2262717854e-02    nrm: 3e+00    Viol.  con: 1e-14    var: 0e+00  \n",
      "  Dual.    obj: 3.2262717857e-02    nrm: 5e-01    Viol.  con: 0e+00    var: 2e-11  \n",
      "\n",
      "Basic solution summary\n",
      "  Problem status  : PRIMAL_AND_DUAL_FEASIBLE\n",
      "  Solution status : OPTIMAL\n",
      "  Primal.  obj: 3.2262717854e-02    nrm: 3e+00    Viol.  con: 1e-12    var: 0e+00  \n",
      "  Dual.    obj: 3.2262717853e-02    nrm: 5e-01    Viol.  con: 0e+00    var: 7e-15  \n"
     ]
    },
    {
     "data": {
      "text/plain": "0.032262717853947874"
     },
     "execution_count": 122,
     "metadata": {},
     "output_type": "execute_result"
    }
   ],
   "source": [
    "c4 = cp.Variable(6)\n",
    "cp.Problem(cp.Minimize(cp.max(U4@c4 - v4)), [U4@c4 >= v4, c4[:3]>=0]).solve(verbose=True, solver=cp.MOSEK)"
   ]
  },
  {
   "cell_type": "code",
   "execution_count": 123,
   "metadata": {},
   "outputs": [
    {
     "data": {
      "text/plain": "array([ 2.86341906e+00,  1.43252388e-02,  8.28430784e-05, -1.71779544e-12,\n       -1.05858385e-02, -1.88719950e-14])"
     },
     "execution_count": 123,
     "metadata": {},
     "output_type": "execute_result"
    }
   ],
   "source": [
    "c4 = c4.value\n",
    "c4"
   ]
  },
  {
   "cell_type": "code",
   "execution_count": 124,
   "metadata": {},
   "outputs": [],
   "source": [
    "C4 = np.zeros((nm,nm))\n",
    "C4[phi_idx, phi_idx] = c4[0]/2\n",
    "C4[phidot_idx, phidot_idx] = c4[1]/2\n",
    "C4[u_idx, u_idx] = c4[2]/2\n",
    "C4[phi_idx, phidot_idx] = c4[3]\n",
    "C4[phi_idx, u_idx] = c4[4]\n",
    "C4[phidot_idx, u_idx] = c4[5]\n",
    "C4 += C4.T"
   ]
  },
  {
   "cell_type": "code",
   "execution_count": 125,
   "metadata": {},
   "outputs": [
    {
     "data": {
      "text/plain": "array([1.43252388e-02, 2.86345820e+00, 4.37074558e-05, 0.00000000e+00,\n       0.00000000e+00])"
     },
     "execution_count": 125,
     "metadata": {},
     "output_type": "execute_result"
    }
   ],
   "source": [
    "np.linalg.eig(C4)[0]"
   ]
  },
  {
   "cell_type": "code",
   "execution_count": 126,
   "metadata": {},
   "outputs": [
    {
     "data": {
      "text/plain": "array([[ 0.00000000e+00,  0.00000000e+00,  0.00000000e+00,\n         0.00000000e+00,  0.00000000e+00],\n       [ 0.00000000e+00,  0.00000000e+00,  0.00000000e+00,\n         0.00000000e+00,  0.00000000e+00],\n       [ 0.00000000e+00,  0.00000000e+00,  1.69215254e+00,\n        -9.48768893e-13, -6.23141107e-03],\n       [ 0.00000000e+00,  0.00000000e+00, -9.48768893e-13,\n         1.19688090e-01, -1.96197871e-13],\n       [ 0.00000000e+00,  0.00000000e+00, -6.23141107e-03,\n        -1.96197871e-13,  6.63419885e-03]])"
     },
     "execution_count": 126,
     "metadata": {},
     "output_type": "execute_result"
    }
   ],
   "source": [
    "gam4 = np.real(sla.sqrtm(C4))\n",
    "gam4"
   ]
  },
  {
   "cell_type": "markdown",
   "metadata": {},
   "source": [
    "## Final system "
   ]
  },
  {
   "cell_type": "code",
   "execution_count": 127,
   "metadata": {},
   "outputs": [],
   "source": [
    "A = np.array([[0, 1, 0, 0],\n",
    "             [0, 0, -mp*g/mc, 0],\n",
    "             [0, 0, 0, 1],\n",
    "             [0, 0, g*(mc+mp)/(l*mc), 0]])\n",
    "B = np.expand_dims(np.array([0, 1/mc, 0, -1/(l*mc)]), 1)\n",
    "\n",
    "# G_inv = np.array([[1, 0, 0, 0],\n",
    "#                   [0, a2[0], 0, a2[1]],\n",
    "#                   [0, 0, 1, 0],\n",
    "#                   [0, a4[0], 0, a4[1]]])\n",
    "# G = np.linalg.inv(G_inv)\n",
    "G = np.eye(4)\n",
    "\n",
    "F = np.vstack([gam2, gam4])\n",
    "C = F[:,:n]\n",
    "D = F[:,n:]"
   ]
  },
  {
   "cell_type": "markdown",
   "metadata": {},
   "source": [
    "### Check correctness "
   ]
  },
  {
   "cell_type": "code",
   "execution_count": 128,
   "metadata": {
    "collapsed": true
   },
   "outputs": [],
   "source": [
    "from IPython.core.debugger import set_trace"
   ]
  },
  {
   "cell_type": "code",
   "execution_count": 129,
   "metadata": {
    "collapsed": true
   },
   "outputs": [],
   "source": [
    "def xdot_f(state, u):\n",
    "    # x = state[:, 0]\n",
    "    x_dot = state[:, 1]\n",
    "    theta = state[:, 2]\n",
    "    theta_dot = state[:, 3]\n",
    "    u = u.flatten()\n",
    "\n",
    "    sin_theta = np.sin(theta)\n",
    "    cos_theta = np.cos(theta)\n",
    "    temp = 1/(mc + mp * (sin_theta * sin_theta))\n",
    "    x_ddot = temp * (u + mp * np.sin(theta) * (l * (theta_dot**2)\n",
    "                                                        - g * cos_theta))\n",
    "    theta_ddot = -(1/l) * temp * (u * cos_theta\n",
    "                                      + mp * l * (theta_dot**2) * cos_theta * sin_theta\n",
    "                                      - (mc + mp) * g * sin_theta)\n",
    "    return np.vstack([x_dot, x_ddot, theta_dot, theta_ddot]).T"
   ]
  },
  {
   "cell_type": "code",
   "execution_count": 130,
   "metadata": {},
   "outputs": [
    {
     "name": "stdout",
     "output_type": "stream",
     "text": [
      "True\n",
      "84078.10099634247\n",
      "69.84146506508074\n",
      "5.992302081027291\n"
     ]
    }
   ],
   "source": [
    "prop = np.random.random((10000, nm))\n",
    "rand_ss = s_max*prop + s_min*(1-prop)\n",
    "rand_ys = rand_ss[:,:n]\n",
    "rand_us = rand_ss[:,n:]\n",
    "\n",
    "fx = xdot_f(rand_ys, rand_us)\n",
    "# print(np.linalg.norm((fx - rand_ys@A.T - rand_us@B.T)@np.linalg.inv(G).T, axis=1) <= \\\n",
    "#       np.linalg.norm(rand_ys@C.T + rand_us@D.T, axis=1))\n",
    "print((np.linalg.norm((fx - rand_ys@A.T - rand_us@B.T)@np.linalg.inv(G).T, axis=1) <= \\\n",
    "      np.linalg.norm(rand_ys@C.T + rand_us@D.T, axis=1)).all())\n",
    "\n",
    "ratio = np.linalg.norm(rand_ys@C.T + rand_us@D.T, axis=1)/np.linalg.norm(\n",
    "    (fx - rand_ys@A.T - rand_us@B.T)@np.linalg.inv(G).T, axis=1)\n",
    "print(ratio.max())\n",
    "print(ratio.mean())\n",
    "print(np.median(ratio))"
   ]
  },
  {
   "cell_type": "markdown",
   "metadata": {},
   "source": [
    "### Save "
   ]
  },
  {
   "cell_type": "code",
   "execution_count": 131,
   "metadata": {
    "collapsed": true
   },
   "outputs": [],
   "source": [
    "np.save('A.npy', A)\n",
    "np.save('B.npy', B)\n",
    "np.save('G.npy', G)\n",
    "np.save('C.npy', C)\n",
    "np.save('D.npy', D)"
   ]
  },
  {
   "cell_type": "markdown",
   "metadata": {},
   "source": [
    "## Check if robust LQR solves "
   ]
  },
  {
   "cell_type": "code",
   "execution_count": 132,
   "metadata": {
    "collapsed": true
   },
   "outputs": [],
   "source": [
    "import scipy.linalg as la"
   ]
  },
  {
   "cell_type": "code",
   "execution_count": 133,
   "metadata": {},
   "outputs": [],
   "source": [
    "Q = np.random.randn(n, n)\n",
    "Q = Q.T @ Q\n",
    "# Q = np.eye(n)\n",
    "\n",
    "R = np.random.randn(m, m)\n",
    "R = R.T @ R\n",
    "# R = np.eye(m)"
   ]
  },
  {
   "cell_type": "code",
   "execution_count": 134,
   "metadata": {},
   "outputs": [
    {
     "name": "stdout",
     "output_type": "stream",
     "text": [
      "\n",
      "\n",
      "Problem\n",
      "  Name                   :                 \n",
      "  Objective sense        : min             \n",
      "  Type                   : CONIC (conic optimization problem)\n",
      "  Constraints            : 259             \n",
      "  Cones                  : 0               \n",
      "  Scalar variables       : 31              \n",
      "  Matrix variables       : 3               \n",
      "  Integer variables      : 0               \n",
      "\n",
      "Optimizer started.\n",
      "Problem\n",
      "  Name                   :                 \n",
      "  Objective sense        : min             \n",
      "  Type                   : CONIC (conic optimization problem)\n",
      "  Constraints            : 259             \n",
      "  Cones                  : 0               \n",
      "  Scalar variables       : 31              \n",
      "  Matrix variables       : 3               \n",
      "  Integer variables      : 0               \n",
      "\n",
      "Optimizer  - threads                : 2               \n",
      "Optimizer  - solved problem         : the primal      \n",
      "Optimizer  - Constraints            : 237\n",
      "Optimizer  - Cones                  : 1\n",
      "Optimizer  - Scalar variables       : 17                conic                  : 16              \n",
      "Optimizer  - Semi-definite variables: 3                 scalarized             : 130             \n",
      "Factor     - setup time             : 0.00              dense det. time        : 0.00            \n",
      "Factor     - ML order time          : 0.00              GP order time          : 0.00            \n",
      "Factor     - nonzeros before factor : 2.28e+04          after factor           : 2.28e+04        \n",
      "Factor     - dense dim.             : 0                 flops                  : 2.96e+06        \n",
      "ITE PFEAS    DFEAS    GFEAS    PRSTATUS   POBJ              DOBJ              MU       TIME  \n",
      "0   1.0e+00  1.0e+01  1.0e+00  0.00e+00   0.000000000e+00   0.000000000e+00   1.0e+00  0.01  \n",
      "1   1.9e-01  1.9e+00  1.4e-01  -2.81e-01  -2.281270483e-01  7.099763692e-03   1.9e-01  0.04  \n",
      "2   4.4e-02  4.3e-01  1.4e-02  8.16e-01   -1.864024979e-02  7.937994766e-03   4.3e-02  0.05  \n",
      "3   5.6e-03  5.6e-02  5.5e-04  1.07e+00   1.033468323e-02   1.059336267e-02   5.5e-03  0.06  \n",
      "4   1.5e-03  1.5e-02  1.1e-04  9.37e-01   6.738530686e-02   6.977829923e-02   1.5e-03  0.07  \n",
      "5   4.3e-04  4.2e-03  3.2e-05  6.82e-03   1.795084991e-01   1.833424876e-01   4.2e-04  0.07  \n",
      "6   8.6e-05  8.5e-04  9.4e-06  -1.86e-01  4.157593139e-01   4.266345494e-01   8.5e-05  0.08  \n",
      "7   1.9e-05  1.9e-04  4.2e-06  -7.94e-01  1.197600207e+00   1.244557314e+00   1.9e-05  0.09  \n",
      "8   2.9e-06  2.9e-05  6.6e-07  -5.18e-01  2.986824762e+00   3.040107799e+00   2.9e-06  0.09  \n",
      "9   6.2e-07  6.2e-06  7.6e-08  3.93e-01   4.314244561e+00   4.329628937e+00   6.1e-07  0.10  \n",
      "10  8.3e-08  8.3e-07  4.0e-09  8.88e-01   4.623217394e+00   4.625594375e+00   8.2e-08  0.10  \n",
      "11  8.8e-09  8.7e-08  1.6e-10  9.85e-01   4.682839944e+00   4.683176564e+00   8.6e-09  0.11  \n",
      "12  1.1e-09  2.1e-10  2.0e-14  9.98e-01   4.688770677e+00   4.688771600e+00   2.3e-11  0.12  \n",
      "13  5.0e-10  5.2e-10  7.3e-15  1.00e+00   4.688778732e+00   4.688779198e+00   1.2e-11  0.12  \n",
      "14  4.7e-10  2.5e-10  4.8e-15  1.00e+00   4.688780771e+00   4.688781120e+00   8.8e-12  0.13  \n",
      "15  4.7e-10  2.5e-10  4.8e-15  1.00e+00   4.688780771e+00   4.688781120e+00   8.8e-12  0.14  \n",
      "16  4.5e-10  2.3e-10  4.6e-15  1.00e+00   4.688780962e+00   4.688781301e+00   8.5e-12  0.15  \n",
      "17  4.4e-10  1.9e-10  4.4e-15  1.00e+00   4.688781055e+00   4.688781389e+00   8.4e-12  0.15  \n",
      "18  4.4e-10  1.8e-10  4.4e-15  1.00e+00   4.688781077e+00   4.688781410e+00   8.4e-12  0.16  \n",
      "19  4.4e-10  1.8e-10  4.4e-15  1.00e+00   4.688781083e+00   4.688781415e+00   8.4e-12  0.17  \n",
      "20  4.4e-10  1.8e-10  4.4e-15  1.00e+00   4.688781085e+00   4.688781417e+00   8.4e-12  0.17  \n",
      "21  4.4e-10  1.8e-10  4.4e-15  1.00e+00   4.688781085e+00   4.688781417e+00   8.4e-12  0.18  \n",
      "22  4.4e-10  1.8e-10  4.4e-15  1.00e+00   4.688781085e+00   4.688781417e+00   8.4e-12  0.18  \n",
      "Optimizer terminated. Time: 0.20    \n",
      "\n",
      "\n",
      "Interior-point solution summary\n",
      "  Problem status  : PRIMAL_AND_DUAL_FEASIBLE\n",
      "  Solution status : OPTIMAL\n",
      "  Primal.  obj: 4.6887810853e+00    nrm: 3e+00    Viol.  con: 3e-06    var: 0e+00    barvar: 0e+00  \n",
      "  Dual.    obj: 4.6887814174e+00    nrm: 4e+03    Viol.  con: 0e+00    var: 1e-08    barvar: 4e-08  \n"
     ]
    }
   ],
   "source": [
    "alpha = 0.001\n",
    "\n",
    "n, m = B.shape\n",
    "wq = C.shape[0]\n",
    "\n",
    "S = cp.Variable((n, n), symmetric=True)\n",
    "Y = cp.Variable((m, n))\n",
    "mu = cp.Variable()\n",
    "\n",
    "R_sqrt = la.sqrtm(R)\n",
    "f = cp.trace(S @ Q) + cp.matrix_frac(Y.T @ R_sqrt, S)\n",
    "\n",
    "cons_mat = cp.bmat((\n",
    "    (A @ S + S @ A.T + cp.multiply(mu, G @ G.T) + B @ Y + Y.T @ B.T + alpha * S, S @ C.T + Y.T @ D.T),\n",
    "    (C @ S + D @ Y, -cp.multiply(mu, np.eye(wq)))\n",
    "))\n",
    "cons = [S >> 0, mu >= 1e-2] + [cons_mat << 0]\n",
    "\n",
    "cp.Problem(cp.Minimize(f), cons).solve(solver=cp.MOSEK, verbose=True)\n",
    "K = np.linalg.solve(S.value, Y.value.T).T"
   ]
  },
  {
   "cell_type": "code",
   "execution_count": 135,
   "metadata": {},
   "outputs": [
    {
     "name": "stdout",
     "output_type": "stream",
     "text": [
      "33.38321398489339\n",
      "-33.42043056485856\n",
      "0.014336330683547194\n",
      "-0.047685520942526205\n",
      "10.38160108794252\n",
      "9.56790890554478\n"
     ]
    }
   ],
   "source": [
    "print((rand_ys@K.T).max())\n",
    "print((rand_ys@K.T).min())\n",
    "print((rand_ys@K.T).mean())\n",
    "print(np.median(rand_ys@K.T))\n",
    "print(abs(rand_ys@K.T).mean())\n",
    "print(np.median(abs(rand_ys@K.T)))"
   ]
  },
  {
   "cell_type": "markdown",
   "metadata": {},
   "source": [
    "## Get a sense for u size in non-robust case "
   ]
  },
  {
   "cell_type": "code",
   "execution_count": 136,
   "metadata": {
    "collapsed": true
   },
   "outputs": [],
   "source": [
    "import control"
   ]
  },
  {
   "cell_type": "code",
   "execution_count": 137,
   "metadata": {
    "collapsed": true
   },
   "outputs": [],
   "source": [
    "K, S, _ = control.lqr(A, B, Q, R)\n",
    "K = np.array(-K)"
   ]
  },
  {
   "cell_type": "code",
   "execution_count": 138,
   "metadata": {},
   "outputs": [
    {
     "name": "stdout",
     "output_type": "stream",
     "text": [
      "30.167968588820685\n",
      "-30.21452996513471\n",
      "0.015277241681704091\n",
      "-0.019151745702437273\n",
      "9.448202543340196\n",
      "8.76269849972503\n"
     ]
    }
   ],
   "source": [
    "print((rand_ys@K.T).max())\n",
    "print((rand_ys@K.T).min())\n",
    "print((rand_ys@K.T).mean())\n",
    "print(np.median(rand_ys@K.T))\n",
    "print(abs(rand_ys@K.T).mean())\n",
    "print(np.median(abs(rand_ys@K.T)))"
   ]
  },
  {
   "cell_type": "code",
   "execution_count": 139,
   "outputs": [
    {
     "name": "stdout",
     "output_type": "stream",
     "text": [
      "\n",
      "\n",
      "Problem\n",
      "  Name                   :                 \n",
      "  Objective sense        : min             \n",
      "  Type                   : LO (linear optimization problem)\n",
      "  Constraints            : 250006          \n",
      "  Cones                  : 0               \n",
      "  Scalar variables       : 9               \n",
      "  Matrix variables       : 0               \n",
      "  Integer variables      : 0               \n",
      "\n",
      "Optimizer started.\n",
      "Problem\n",
      "  Name                   :                 \n",
      "  Objective sense        : min             \n",
      "  Type                   : LO (linear optimization problem)\n",
      "  Constraints            : 250006          \n",
      "  Cones                  : 0               \n",
      "  Scalar variables       : 9               \n",
      "  Matrix variables       : 0               \n",
      "  Integer variables      : 0               \n",
      "\n",
      "Optimizer  - threads                : 2               \n",
      "Optimizer  - solved problem         : the dual        \n",
      "Optimizer  - Constraints            : 9\n",
      "Optimizer  - Cones                  : 0\n",
      "Optimizer  - Scalar variables       : 125257            conic                  : 0               \n",
      "Optimizer  - Semi-definite variables: 0                 scalarized             : 0               \n",
      "Factor     - setup time             : 0.07              dense det. time        : 0.00            \n",
      "Factor     - ML order time          : 0.00              GP order time          : 0.00            \n",
      "Factor     - nonzeros before factor : 44                after factor           : 45              \n",
      "Factor     - dense dim.             : 0                 flops                  : 9.00e+06        \n",
      "ITE PFEAS    DFEAS    GFEAS    PRSTATUS   POBJ              DOBJ              MU       TIME  \n",
      "0   2.0e+00  1.3e+05  2.0e+00  0.00e+00   0.000000000e+00   0.000000000e+00   4.0e+00  0.53  \n",
      "1   2.0e+00  1.2e+05  2.0e+00  1.37e+01   1.224002180e-02   2.304281952e-01   3.9e+00  0.61  \n",
      "2   3.1e-01  1.9e+04  3.1e-01  1.01e+01   3.753776839e-02   3.391134664e-02   6.2e-01  0.65  \n",
      "3   3.2e-02  2.0e+03  3.2e-02  1.30e+00   3.398683590e-02   3.371474003e-02   6.5e-02  0.69  \n",
      "4   7.9e-03  5.0e+02  7.9e-03  1.35e+00   2.819589589e-02   2.813767667e-02   1.6e-02  0.73  \n",
      "5   2.6e-03  1.6e+02  2.6e-03  1.48e+00   2.245436813e-02   2.243856695e-02   5.2e-03  0.77  \n",
      "6   2.6e-03  1.6e+02  2.6e-03  1.23e+00   2.245877548e-02   2.244298639e-02   5.2e-03  0.80  \n",
      "7   1.6e-03  1.0e+02  1.6e-03  1.24e+00   2.102925627e-02   2.101975397e-02   3.3e-03  0.86  \n",
      "8   1.6e-03  1.0e+02  1.6e-03  1.09e+00   2.102538773e-02   2.101589908e-02   3.3e-03  0.91  \n",
      "9   1.4e-03  9.0e+01  1.4e-03  1.13e+00   2.089475367e-02   2.088642708e-02   2.9e-03  0.97  \n",
      "10  1.4e-03  8.7e+01  1.4e-03  1.10e+00   2.084917784e-02   2.084116391e-02   2.8e-03  1.00  \n",
      "11  1.2e-03  7.5e+01  1.2e-03  1.09e+00   2.079637629e-02   2.078949437e-02   2.4e-03  1.04  \n",
      "12  6.0e-04  3.7e+01  6.0e-04  1.07e+00   2.052228711e-02   2.051887928e-02   1.2e-03  1.07  \n",
      "13  1.1e-04  6.9e+00  1.1e-04  1.03e+00   2.040319965e-02   2.040256450e-02   2.2e-04  1.10  \n",
      "14  1.9e-05  1.2e+00  1.9e-05  1.01e+00   2.035764978e-02   2.035754016e-02   3.8e-05  1.14  \n",
      "15  2.4e-06  1.5e-01  2.4e-06  1.00e+00   2.035567233e-02   2.035565854e-02   4.7e-06  1.18  \n",
      "16  2.3e-07  1.5e-02  2.3e-07  1.00e+00   2.035509001e-02   2.035508864e-02   4.7e-07  1.21  \n",
      "17  7.3e-10  4.6e-05  7.3e-10  1.00e+00   2.035504100e-02   2.035504100e-02   1.5e-09  1.24  \n",
      "18  7.3e-10  4.6e-05  7.3e-10  1.00e+00   2.035504100e-02   2.035504100e-02   1.5e-09  1.28  \n",
      "Basis identification started.\n",
      "Primal basis identification phase started.\n",
      "Primal basis identification phase terminated. Time: 0.00\n",
      "Dual basis identification phase started.\n",
      "Dual basis identification phase terminated. Time: 0.00\n",
      "Basis identification terminated. Time: 0.05\n",
      "Optimizer terminated. Time: 1.45    \n",
      "\n",
      "\n",
      "Interior-point solution summary\n",
      "  Problem status  : PRIMAL_AND_DUAL_FEASIBLE\n",
      "  Solution status : OPTIMAL\n",
      "  Primal.  obj: 2.0355041001e-02    nrm: 2e+00    Viol.  con: 8e-12    var: 0e+00  \n",
      "  Dual.    obj: 2.0355040997e-02    nrm: 3e-01    Viol.  con: 0e+00    var: 9e-10  \n",
      "\n",
      "Basic solution summary\n",
      "  Problem status  : PRIMAL_AND_DUAL_FEASIBLE\n",
      "  Solution status : OPTIMAL\n",
      "  Primal.  obj: 2.0355041001e-02    nrm: 2e+00    Viol.  con: 3e-11    var: 0e+00  \n",
      "  Dual.    obj: 2.0355041002e-02    nrm: 4e-01    Viol.  con: 0e+00    var: 9e-16  \n",
      "\n",
      "\n",
      "Problem\n",
      "  Name                   :                 \n",
      "  Objective sense        : min             \n",
      "  Type                   : LO (linear optimization problem)\n",
      "  Constraints            : 250006          \n",
      "  Cones                  : 0               \n",
      "  Scalar variables       : 9               \n",
      "  Matrix variables       : 0               \n",
      "  Integer variables      : 0               \n",
      "\n",
      "Optimizer started.\n",
      "Problem\n",
      "  Name                   :                 \n",
      "  Objective sense        : min             \n",
      "  Type                   : LO (linear optimization problem)\n",
      "  Constraints            : 250006          \n",
      "  Cones                  : 0               \n",
      "  Scalar variables       : 9               \n",
      "  Matrix variables       : 0               \n",
      "  Integer variables      : 0               \n",
      "\n",
      "Optimizer  - threads                : 2               \n",
      "Optimizer  - solved problem         : the dual        \n",
      "Optimizer  - Constraints            : 9\n",
      "Optimizer  - Cones                  : 0\n",
      "Optimizer  - Scalar variables       : 125257            conic                  : 0               \n",
      "Optimizer  - Semi-definite variables: 0                 scalarized             : 0               \n",
      "Factor     - setup time             : 0.07              dense det. time        : 0.00            \n",
      "Factor     - ML order time          : 0.00              GP order time          : 0.00            \n",
      "Factor     - nonzeros before factor : 44                after factor           : 45              \n",
      "Factor     - dense dim.             : 0                 flops                  : 9.00e+06        \n",
      "ITE PFEAS    DFEAS    GFEAS    PRSTATUS   POBJ              DOBJ              MU       TIME  \n",
      "0   2.0e+00  1.3e+05  2.0e+00  0.00e+00   0.000000000e+00   0.000000000e+00   4.0e+00  0.58  \n",
      "1   1.9e+00  1.2e+05  1.9e+00  9.21e+00   1.988813072e-02   1.237263300e-01   3.7e+00  0.65  \n",
      "2   2.1e-01  1.3e+04  2.1e-01  3.87e+00   4.440114845e-02   8.870150714e-02   4.3e-01  0.69  \n",
      "3   2.2e-02  1.4e+03  2.2e-02  1.23e+00   4.389134968e-02   5.036073443e-02   4.5e-02  0.72  \n",
      "4   3.9e-03  2.4e+02  3.9e-03  1.22e+00   3.789448769e-02   3.843203431e-02   7.7e-03  0.75  \n",
      "5   3.6e-03  2.2e+02  3.6e-03  1.28e+00   3.728573314e-02   3.776977959e-02   7.1e-03  0.79  \n",
      "6   1.3e-03  8.1e+01  1.3e-03  1.31e+00   3.254960215e-02   3.268404911e-02   2.6e-03  0.83  \n",
      "7   7.4e-04  4.6e+01  7.4e-04  1.15e+00   3.128041100e-02   3.135063874e-02   1.5e-03  0.87  \n",
      "8   7.4e-04  4.6e+01  7.4e-04  1.08e+00   3.128047126e-02   3.135060056e-02   1.5e-03  0.90  \n",
      "9   5.4e-04  3.4e+01  5.4e-04  1.08e+00   3.082784339e-02   3.087616144e-02   1.1e-03  0.94  \n",
      "10  3.1e-04  2.0e+01  3.1e-04  1.06e+00   3.055534700e-02   3.058187761e-02   6.3e-04  0.97  \n",
      "11  9.3e-05  5.8e+00  9.3e-05  1.02e+00   3.043514736e-02   3.044098303e-02   1.9e-04  1.01  \n",
      "12  1.6e-05  9.8e-01  1.6e-05  1.00e+00   3.039998840e-02   3.040078916e-02   3.1e-05  1.04  \n",
      "13  3.0e-06  1.9e-01  3.0e-06  1.00e+00   3.039772651e-02   3.039783211e-02   6.1e-06  1.08  \n",
      "14  1.5e-07  9.5e-03  1.5e-07  1.00e+00   3.039467957e-02   3.039468462e-02   3.0e-07  1.11  \n",
      "15  9.6e-10  6.0e-05  9.6e-10  1.00e+00   3.039464239e-02   3.039464241e-02   1.9e-09  1.13  \n",
      "16  9.6e-10  6.0e-05  9.6e-10  1.00e+00   3.039464239e-02   3.039464241e-02   1.9e-09  1.16  \n",
      "Basis identification started.\n",
      "Primal basis identification phase started.\n",
      "Primal basis identification phase terminated. Time: 0.01\n",
      "Dual basis identification phase started.\n",
      "Dual basis identification phase terminated. Time: 0.00\n",
      "Basis identification terminated. Time: 0.06\n",
      "Optimizer terminated. Time: 1.36    \n",
      "\n",
      "\n",
      "Interior-point solution summary\n",
      "  Problem status  : PRIMAL_AND_DUAL_FEASIBLE\n",
      "  Solution status : OPTIMAL\n",
      "  Primal.  obj: 3.0394642393e-02    nrm: 2e+00    Viol.  con: 1e-11    var: 0e+00  \n",
      "  Dual.    obj: 3.0394642413e-02    nrm: 5e-01    Viol.  con: 0e+00    var: 1e-09  \n",
      "\n",
      "Basic solution summary\n",
      "  Problem status  : PRIMAL_AND_DUAL_FEASIBLE\n",
      "  Solution status : OPTIMAL\n",
      "  Primal.  obj: 3.0394642393e-02    nrm: 2e+00    Viol.  con: 1e-09    var: 0e+00  \n",
      "  Dual.    obj: 3.0394642071e-02    nrm: 4e-01    Viol.  con: 0e+00    var: 7e-15  \n"
     ]
    }
   ],
   "source": [
    "c2 = cp.Variable(6)\n",
    "c4 = cp.Variable(6)\n",
    "a2 = cp.Variable(2)\n",
    "a4 = cp.Variable(2)\n",
    "prob2 = cp.Problem(cp.Minimize(cp.max(U2@c2 - v2 * a2[0])), [U2@c2 >= v2 * a2[0] + v4 * a2[1], c2[:3]>=0, a2 >= 0, cp.sum(a2) == 1])\n",
    "prob2.solve(verbose=True, solver=cp.MOSEK)\n",
    "prob4 = cp.Problem(cp.Minimize(cp.max(U2@c4 - v4 * a4[1])), [U4@c4 >= v2 * a4[0] + v4 * a4[1], c4[:3]>=0, a4 >= 0, cp.sum(a4) == 1])\n",
    "prob4.solve(verbose=True, solver=cp.MOSEK)\n",
    "# cp.Problem(cp.Minimize(cp.max(U4@c4 - v4)), [U4@c4 >= v4, c4[:3]>=0]).solve(verbose=True, solver=cp.MOSEK)\n",
    "\n",
    "a2 = a2.value\n",
    "a4 = a4.value"
   ],
   "metadata": {
    "collapsed": false,
    "pycharm": {
     "name": "#%%\n"
    }
   }
  },
  {
   "cell_type": "code",
   "execution_count": 140,
   "outputs": [
    {
     "data": {
      "text/plain": "array([[0., 0., 0., 0.],\n       [0., 0., 0., 0.],\n       [0., 0., 0., 0.],\n       [0., 0., 0., 0.],\n       [0., 0., 0., 0.],\n       [0., 0., 0., 0.],\n       [0., 0., 0., 0.],\n       [0., 0., 0., 0.],\n       [0., 0., 0., 0.],\n       [0., 0., 0., 0.]])"
     },
     "execution_count": 140,
     "metadata": {},
     "output_type": "execute_result"
    }
   ],
   "source": [
    "C_old = np.load('C.npy')\n",
    "C - C_old"
   ],
   "metadata": {
    "collapsed": false,
    "pycharm": {
     "name": "#%%\n"
    }
   }
  },
  {
   "cell_type": "code",
   "execution_count": 140,
   "outputs": [],
   "source": [
    "\n"
   ],
   "metadata": {
    "collapsed": false,
    "pycharm": {
     "name": "#%%\n"
    }
   }
  }
 ],
 "metadata": {
  "kernelspec": {
   "name": "pycharm-94d9243a",
   "language": "python",
   "display_name": "PyCharm (RobustRL)"
  },
  "language_info": {
   "codemirror_mode": {
    "name": "ipython",
    "version": 3
   },
   "file_extension": ".py",
   "mimetype": "text/x-python",
   "name": "python",
   "nbconvert_exporter": "python",
   "pygments_lexer": "ipython3",
   "version": "3.6.9"
  }
 },
 "nbformat": 4,
 "nbformat_minor": 2
}